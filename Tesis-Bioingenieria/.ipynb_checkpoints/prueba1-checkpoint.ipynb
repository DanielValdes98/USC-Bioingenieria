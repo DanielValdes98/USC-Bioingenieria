{
 "cells": [
  {
   "cell_type": "code",
   "execution_count": 1,
   "metadata": {},
   "outputs": [],
   "source": [
    "#cargar librerias necesarias\n",
    "import numpy as np\n",
    "import matplotlib.pyplot as plt\n",
    "from sklearn.linear_model import LogisticRegression\n",
    "from sklearn.linear_model import LinearRegression\n",
    "from sklearn.metrics import mean_squared_error\n",
    "%matplotlib inline"
   ]
  },
  {
   "cell_type": "code",
   "execution_count": 32,
   "metadata": {},
   "outputs": [],
   "source": [
    "def loadDataset():\n",
    "    #define el nombre del archivo y las etiquetas para cada tipo de flor\n",
    "    file_name='Datos/Dataset.data'\n",
    "    \n",
    "\n",
    "    hf = open(file_name,'r')\n",
    "    lines=hf.readlines()\n",
    "    hf.close()\n",
    "    ##############################\n",
    "    x=[]\n",
    "    y=[]\n",
    "    for line in lines:\n",
    "       #de cada linea tomar por separado cada variable y el numero de anillos\n",
    "        data = line[:-1].split(',')\n",
    "        \n",
    "        y.append([float(i) for i in data[3:100]])\n",
    "        x.append([float(i) for i in data[:3]])\n",
    "\n",
    "    #convertir la lista a un arreglo numpy\n",
    "    x=np.array(x)\n",
    "    y=np.array(y)\n",
    "    #y=np.array(y).reshape(4177,1)\n",
    "    return x,y"
   ]
  },
  {
   "cell_type": "code",
   "execution_count": 33,
   "metadata": {},
   "outputs": [],
   "source": [
    "X,Y=loadDataset()"
   ]
  },
  {
   "cell_type": "code",
   "execution_count": 35,
   "metadata": {
    "collapsed": true
   },
   "outputs": [
    {
     "data": {
      "text/plain": [
       "array([[297.95, 297.99, 298.03, ..., 299.45, 299.46, 299.47],\n",
       "       [297.95, 297.99, 298.04, ..., 299.44, 299.45, 299.46],\n",
       "       [297.95, 298.  , 298.05, ..., 299.61, 299.62, 299.63],\n",
       "       ...,\n",
       "       [297.95, 297.99, 298.03, ..., 299.44, 299.44, 299.45],\n",
       "       [297.95, 297.99, 298.03, ..., 299.4 , 299.41, 299.42],\n",
       "       [297.95, 297.98, 298.01, ..., 299.24, 299.25, 299.26]])"
      ]
     },
     "execution_count": 35,
     "metadata": {},
     "output_type": "execute_result"
    }
   ],
   "source": [
    "Y"
   ]
  },
  {
   "cell_type": "code",
   "execution_count": 36,
   "metadata": {
    "collapsed": true
   },
   "outputs": [
    {
     "data": {
      "text/plain": [
       "array([[4.5558e+03, 9.1199e+02, 5.6625e-01],\n",
       "       [3.7042e+03, 1.0059e+03, 6.4854e-01],\n",
       "       [3.7369e+03, 8.7701e+02, 5.9179e-01],\n",
       "       [3.8454e+03, 8.8705e+02, 6.5702e-01],\n",
       "       [2.9522e+03, 9.9752e+02, 5.5725e-01],\n",
       "       [4.7859e+03, 1.1512e+03, 5.1879e-01],\n",
       "       [4.3202e+03, 9.2137e+02, 5.1757e-01],\n",
       "       [3.8682e+03, 1.0353e+03, 6.3286e-01],\n",
       "       [4.7574e+03, 9.7568e+02, 5.9270e-01],\n",
       "       [3.4680e+03, 1.1097e+03, 5.9157e-01],\n",
       "       [4.1413e+03, 8.8949e+02, 6.8904e-01],\n",
       "       [4.0831e+03, 1.0014e+03, 6.2099e-01],\n",
       "       [4.3177e+03, 1.0534e+03, 6.1534e-01],\n",
       "       [4.3150e+03, 1.1081e+03, 6.9920e-01],\n",
       "       [3.8222e+03, 1.1523e+03, 5.5486e-01],\n",
       "       [4.1715e+03, 1.0068e+03, 6.4543e-01],\n",
       "       [4.1151e+03, 8.4931e+02, 6.5379e-01],\n",
       "       [4.4467e+03, 9.2410e+02, 5.8869e-01],\n",
       "       [4.6415e+03, 8.9223e+02, 6.1641e-01],\n",
       "       [4.6482e+03, 1.2328e+03, 5.3305e-01]])"
      ]
     },
     "execution_count": 36,
     "metadata": {},
     "output_type": "execute_result"
    }
   ],
   "source": [
    "X"
   ]
  },
  {
   "cell_type": "code",
   "execution_count": 78,
   "metadata": {},
   "outputs": [
    {
     "data": {
      "text/plain": [
       "<function ndarray.mean>"
      ]
     },
     "execution_count": 78,
     "metadata": {},
     "output_type": "execute_result"
    }
   ],
   "source": [
    "Y[:,1].mean"
   ]
  },
  {
   "cell_type": "code",
   "execution_count": 85,
   "metadata": {},
   "outputs": [
    {
     "data": {
      "text/plain": [
       "297.991"
      ]
     },
     "execution_count": 85,
     "metadata": {},
     "output_type": "execute_result"
    }
   ],
   "source": [
    "np.mean(Y[:,1])"
   ]
  },
  {
   "cell_type": "code",
   "execution_count": 86,
   "metadata": {},
   "outputs": [
    {
     "data": {
      "text/plain": [
       "298.03049999999996"
      ]
     },
     "execution_count": 86,
     "metadata": {},
     "output_type": "execute_result"
    }
   ],
   "source": [
    "np.mean(Y[:,2])"
   ]
  },
  {
   "cell_type": "code",
   "execution_count": 87,
   "metadata": {},
   "outputs": [
    {
     "data": {
      "text/plain": [
       "298.064"
      ]
     },
     "execution_count": 87,
     "metadata": {},
     "output_type": "execute_result"
    }
   ],
   "source": [
    "np.mean(Y[:,3])"
   ]
  },
  {
   "cell_type": "code",
   "execution_count": 89,
   "metadata": {},
   "outputs": [
    {
     "data": {
      "text/plain": [
       "array([298.88350515, 298.89350515, 299.00278351, 298.93494845,\n",
       "       299.09546392, 298.75659794, 298.94020619, 298.86329897,\n",
       "       298.80762887, 298.91030928, 298.87546392, 298.85979381,\n",
       "       298.80701031, 298.74195876, 298.85742268, 298.83216495,\n",
       "       298.92443299, 298.87546392, 298.85546392, 298.72907216])"
      ]
     },
     "execution_count": 89,
     "metadata": {},
     "output_type": "execute_result"
    }
   ],
   "source": [
    "promedio_Y = []\n",
    "for j in range(len(X)):\n",
    "    prom = np.mean(Y[j,:])\n",
    "    promedio_Y.append(prom)\n",
    "promedio_Y=np.array(promedio_Y)\n",
    "promedio_Y"
   ]
  },
  {
   "cell_type": "code",
   "execution_count": 90,
   "metadata": {},
   "outputs": [
    {
     "data": {
      "text/plain": [
       "array([[[ 1.        , -0.75341139],\n",
       "        [-0.75341139,  1.        ]],\n",
       "\n",
       "       [[ 1.        , -0.57408922],\n",
       "        [-0.57408922,  1.        ]],\n",
       "\n",
       "       [[ 1.        , -0.06587588],\n",
       "        [-0.06587588,  1.        ]]])"
      ]
     },
     "execution_count": 90,
     "metadata": {},
     "output_type": "execute_result"
    }
   ],
   "source": [
    "#Matriz que almacena todas las correlaciones\n",
    "V=[]\n",
    "for i in range(len(X.T)):\n",
    "    C=np.corrcoef(X[:,i],promedio_Y)\n",
    "    V.append(C)\n",
    "V=np.array(V)\n",
    "V"
   ]
  },
  {
   "cell_type": "code",
   "execution_count": 96,
   "metadata": {},
   "outputs": [
    {
     "data": {
      "text/plain": [
       "[<matplotlib.lines.Line2D at 0x1f31f28c040>]"
      ]
     },
     "execution_count": 96,
     "metadata": {},
     "output_type": "execute_result"
    },
    {
     "data": {
      "image/png": "[encoded data removed]",
      "text/plain": [
       "<Figure size 432x288 with 1 Axes>"
      ]
     },
     "metadata": {
      "needs_background": "light"
     },
     "output_type": "display_data"
    }
   ],
   "source": [
    "plt.plot(Y[1,:])"
   ]
  },
  {
   "cell_type": "code",
   "execution_count": 100,
   "metadata": {
    "collapsed": true
   },
   "outputs": [
    {
     "name": "stdout",
     "output_type": "stream",
     "text": [
      "[[ 3.09083191e-32]\n",
      " [-1.06416909e-05]\n",
      " [-1.94644319e-05]\n",
      " [-2.78096526e-05]\n",
      " [-3.65471050e-05]\n",
      " [-4.22767458e-05]\n",
      " [-4.61954477e-05]\n",
      " [-5.35062420e-05]\n",
      " [-5.98582011e-05]\n",
      " [-6.32869749e-05]\n",
      " [-6.82071562e-05]\n",
      " [-7.46074818e-05]\n",
      " [-7.71453020e-05]\n",
      " [-8.20750000e-05]\n",
      " [-8.38400421e-05]\n",
      " [-8.57137430e-05]\n",
      " [-9.24431166e-05]\n",
      " [-9.54059949e-05]\n",
      " [-9.58340646e-05]\n",
      " [-9.67927793e-05]\n",
      " [-1.00656670e-04]\n",
      " [-1.04299750e-04]\n",
      " [-1.05023258e-04]\n",
      " [-1.08594420e-04]\n",
      " [-1.07985474e-04]\n",
      " [-1.10144855e-04]\n",
      " [-1.14939152e-04]\n",
      " [-1.13879187e-04]\n",
      " [-1.20079602e-04]\n",
      " [-1.19829096e-04]\n",
      " [-1.19968052e-04]\n",
      " [-1.23935301e-04]\n",
      " [-1.27173320e-04]\n",
      " [-1.27965914e-04]\n",
      " [-1.29987906e-04]\n",
      " [-1.29147849e-04]\n",
      " [-1.32571202e-04]\n",
      " [-1.35103059e-04]\n",
      " [-1.36651326e-04]\n",
      " [-1.38435823e-04]\n",
      " [-1.40768794e-04]\n",
      " [-1.44176787e-04]\n",
      " [-1.42353019e-04]\n",
      " [-1.45591941e-04]\n",
      " [-1.46961620e-04]\n",
      " [-1.51680806e-04]\n",
      " [-1.49480527e-04]\n",
      " [-1.51660147e-04]\n",
      " [-1.55567585e-04]\n",
      " [-1.56792767e-04]\n",
      " [-1.55384118e-04]\n",
      " [-1.55328283e-04]\n",
      " [-1.59047195e-04]\n",
      " [-1.63050945e-04]\n",
      " [-1.61128877e-04]\n",
      " [-1.64462484e-04]\n",
      " [-1.63485037e-04]\n",
      " [-1.66334318e-04]\n",
      " [-1.69883014e-04]\n",
      " [-1.69284367e-04]\n",
      " [-1.69112585e-04]\n",
      " [-1.68321617e-04]\n",
      " [-1.72973223e-04]\n",
      " [-1.72656281e-04]\n",
      " [-1.74654301e-04]\n",
      " [-1.77675725e-04]\n",
      " [-1.77229104e-04]\n",
      " [-1.75992238e-04]\n",
      " [-1.77598809e-04]\n",
      " [-1.81406804e-04]\n",
      " [-1.81406804e-04]\n",
      " [-1.82643671e-04]\n",
      " [-1.81182801e-04]\n",
      " [-1.84032081e-04]\n",
      " [-1.84032081e-04]\n",
      " [-1.84466174e-04]\n",
      " [-1.84466174e-04]\n",
      " [-1.84466174e-04]\n",
      " [-1.84466174e-04]\n",
      " [-1.84466174e-04]\n",
      " [-1.84995133e-04]\n",
      " [-1.85304606e-04]\n",
      " [-1.84235184e-04]\n",
      " [-1.84235184e-04]\n",
      " [-1.85249433e-04]\n",
      " [-1.87343884e-04]\n",
      " [-1.88263448e-04]\n",
      " [-1.88367409e-04]\n",
      " [-1.87770509e-04]\n",
      " [-1.88349761e-04]\n",
      " [-1.88783854e-04]\n",
      " [-1.88469081e-04]\n",
      " [-1.89793766e-04]\n",
      " [-1.90607261e-04]\n",
      " [-1.90435117e-04]\n",
      " [-1.90544138e-04]\n",
      " [-1.91884844e-04]]\n",
      "[297.95       298.03500153 298.11098202 298.17898805 298.25061588\n",
      " 298.30530695 298.35351009 298.41423895 298.46950319 298.51068057\n",
      " 298.55652465 298.60948888 298.64298232 298.68786576 298.7171639\n",
      " 298.74691133 298.79873611 298.83248709 298.85375709 298.8782212\n",
      " 298.91319772 298.94626121 298.96725279 298.99901892 299.01550104\n",
      " 299.0439297  299.08025328 299.09287051 299.13550814 299.15097234\n",
      " 299.1670469  299.20045078 299.22933942 299.24811666 299.27347725\n",
      " 299.28450375 299.31465872 299.34062751 299.36152932 299.3844079\n",
      " 299.40855433 299.43714579 299.44410482 299.4724972  299.49216058\n",
      " 299.52667359 299.53057582 299.55508817 299.58374474 299.60331065\n",
      " 299.60998614 299.62425527 299.65313232 299.68168712 299.68623971\n",
      " 299.71502359 299.72298202 299.7452633  299.77243653 299.78246123\n",
      " 299.79375094 299.80248043 299.83371401 299.84340351 299.86366497\n",
      " 299.88765803 299.89631133 299.9016971  299.91884    299.94558539\n",
      " 299.95558539 299.97019962 299.97515917 299.99744045 300.00744045\n",
      " 300.01873535 300.02873535 300.03873535 300.04873535 300.05873535\n",
      " 300.0699225  300.08020212 300.08428025 300.09428025 300.10797399\n",
      " 300.12513418 300.13643641 300.14586627 300.15239819 300.1632933\n",
      " 300.1745882  300.18028667 300.19426401 300.20462767 300.21291588\n",
      " 300.22236666 300.23541025]\n"
     ]
    }
   ],
   "source": [
    "#CÓDIGO AGREGADO\n",
    "X1=X[:,0]\n",
    "reg = LinearRegression().fit(X1.reshape(-1, 1), Y)\n",
    "\n",
    "print(reg.coef_)\n",
    "print(reg.intercept_)\n",
    "\n",
    "a=np.linspace(X1.min(),X1.max(),100)\n",
    "b=reg.predict(a.reshape(-1, 1))"
   ]
  },
  {
   "cell_type": "code",
   "execution_count": 101,
   "metadata": {},
   "outputs": [
    {
     "data": {
      "text/plain": [
       "array([4555.8, 3704.2, 3736.9, 3845.4, 2952.2, 4785.9, 4320.2, 3868.2,\n",
       "       4757.4, 3468. , 4141.3, 4083.1, 4317.7, 4315. , 3822.2, 4171.5,\n",
       "       4115.1, 4446.7, 4641.5, 4648.2])"
      ]
     },
     "execution_count": 101,
     "metadata": {},
     "output_type": "execute_result"
    }
   ],
   "source": [
    "X1"
   ]
  },
  {
   "cell_type": "code",
   "execution_count": 102,
   "metadata": {},
   "outputs": [
    {
     "data": {
      "text/plain": [
       "array([[297.95      , 297.98652011, 298.02230596, ..., 299.34533158,\n",
       "        299.35428568, 299.36122128],\n",
       "       [297.95      , 297.99558258, 298.03888187, ..., 299.50750612,\n",
       "        299.51655307, 299.52463041],\n",
       "       [297.95      , 297.99523459, 298.03824538, ..., 299.50127889,\n",
       "        299.51032228, 299.51835578],\n",
       "       ...,\n",
       "       [297.95      , 297.98768112, 298.02442953, ..., 299.36610805,\n",
       "        299.37507405, 299.38215591],\n",
       "       [297.95      , 297.98560812, 298.02063786, ..., 299.32901129,\n",
       "        299.33795605, 299.34477675],\n",
       "       [297.95      , 297.98553682, 298.02050745, ..., 299.32773537,\n",
       "        299.3366794 , 299.34349112]])"
      ]
     },
     "execution_count": 102,
     "metadata": {},
     "output_type": "execute_result"
    }
   ],
   "source": [
    "y_pred=reg.predict(X1.reshape(-1, 1))\n",
    "y_pred"
   ]
  },
  {
   "cell_type": "code",
   "execution_count": 105,
   "metadata": {},
   "outputs": [
    {
     "data": {
      "text/plain": [
       "array([[297.95, 297.99, 298.03, ..., 299.45, 299.46, 299.47],\n",
       "       [297.95, 297.99, 298.04, ..., 299.44, 299.45, 299.46],\n",
       "       [297.95, 298.  , 298.05, ..., 299.61, 299.62, 299.63],\n",
       "       ...,\n",
       "       [297.95, 297.99, 298.03, ..., 299.44, 299.44, 299.45],\n",
       "       [297.95, 297.99, 298.03, ..., 299.4 , 299.41, 299.42],\n",
       "       [297.95, 297.98, 298.01, ..., 299.24, 299.25, 299.26]])"
      ]
     },
     "execution_count": 105,
     "metadata": {},
     "output_type": "execute_result"
    }
   ],
   "source": [
    "Y"
   ]
  },
  {
   "cell_type": "code",
   "execution_count": 107,
   "metadata": {},
   "outputs": [
    {
     "data": {
      "text/plain": [
       "0.003574356807374317"
      ]
     },
     "execution_count": 107,
     "metadata": {},
     "output_type": "execute_result"
    }
   ],
   "source": [
    "mse = mean_squared_error(Y, y_pred)\n",
    "mse"
   ]
  },
  {
   "cell_type": "code",
   "execution_count": 113,
   "metadata": {},
   "outputs": [
    {
     "data": {
      "text/plain": [
       "[<matplotlib.lines.Line2D at 0x1f31f51a970>]"
      ]
     },
     "execution_count": 113,
     "metadata": {},
     "output_type": "execute_result"
    },
    {
     "data": {
      "image/png": "[encoded data removed]",
      "text/plain": [
       "<Figure size 432x288 with 1 Axes>"
      ]
     },
     "metadata": {
      "needs_background": "light"
     },
     "output_type": "display_data"
    }
   ],
   "source": [
    "plt.plot(y_pred[1,:])"
   ]
  },
  {
   "cell_type": "markdown",
   "metadata": {},
   "source": [
    "Explorar usando dos variables para predecir la variable de interes Y. Se deben seleccionar las dos variables que tienen mayor correlación con la variable Y. A continuación se presenta un ejemplo para usar el modelo lineal con dos variables. En este caso no es posible graficar. Sin embargo calcular el error y comparar tres combinaciones de variables"
   ]
  },
  {
   "cell_type": "code",
   "execution_count": 117,
   "metadata": {
    "collapsed": true
   },
   "outputs": [
    {
     "data": {
      "text/plain": [
       "array([[4.5558e+03, 3.7042e+03, 3.7369e+03, 3.8454e+03, 2.9522e+03,\n",
       "        4.7859e+03, 4.3202e+03, 3.8682e+03, 4.7574e+03, 3.4680e+03,\n",
       "        4.1413e+03, 4.0831e+03, 4.3177e+03, 4.3150e+03, 3.8222e+03,\n",
       "        4.1715e+03, 4.1151e+03, 4.4467e+03, 4.6415e+03, 4.6482e+03],\n",
       "       [9.1199e+02, 1.0059e+03, 8.7701e+02, 8.8705e+02, 9.9752e+02,\n",
       "        1.1512e+03, 9.2137e+02, 1.0353e+03, 9.7568e+02, 1.1097e+03,\n",
       "        8.8949e+02, 1.0014e+03, 1.0534e+03, 1.1081e+03, 1.1523e+03,\n",
       "        1.0068e+03, 8.4931e+02, 9.2410e+02, 8.9223e+02, 1.2328e+03],\n",
       "       [5.6625e-01, 6.4854e-01, 5.9179e-01, 6.5702e-01, 5.5725e-01,\n",
       "        5.1879e-01, 5.1757e-01, 6.3286e-01, 5.9270e-01, 5.9157e-01,\n",
       "        6.8904e-01, 6.2099e-01, 6.1534e-01, 6.9920e-01, 5.5486e-01,\n",
       "        6.4543e-01, 6.5379e-01, 5.8869e-01, 6.1641e-01, 5.3305e-01]])"
      ]
     },
     "execution_count": 117,
     "metadata": {},
     "output_type": "execute_result"
    }
   ],
   "source": [
    "Xmc=[]\n",
    "Xmc.append(X[:,0])\n",
    "Xmc.append(X[:,1])\n",
    "Xmc.append(X[:,2])\n",
    "Xmc=np.array(Xmc)\n",
    "Xmc"
   ]
  },
  {
   "cell_type": "code",
   "execution_count": 134,
   "metadata": {
    "collapsed": true
   },
   "outputs": [
    {
     "name": "stdout",
     "output_type": "stream",
     "text": [
      "[[ 2.81389761e-32  1.56920822e-30  1.12796797e-27]\n",
      " [-1.05969479e-05 -4.22027759e-05 -3.21423625e-02]\n",
      " [-1.86677138e-05 -7.24790192e-05 -1.14701952e-02]\n",
      " [-2.71745667e-05 -9.25009462e-05 -3.78275727e-02]\n",
      " [-3.54874678e-05 -1.26620377e-04 -4.02203150e-02]\n",
      " [-4.16304156e-05 -1.63721289e-04 -9.59740576e-02]\n",
      " [-4.52029270e-05 -1.71866076e-04 -8.16714425e-02]\n",
      " [-5.21400290e-05 -1.97788186e-04 -8.03826004e-02]\n",
      " [-5.87396384e-05 -2.11159974e-04 -1.06472250e-01]\n",
      " [-6.25296396e-05 -2.38041206e-04 -1.50620586e-01]\n",
      " [-6.72154024e-05 -2.49791174e-04 -1.46085846e-01]\n",
      " [-7.36442494e-05 -2.63043056e-04 -1.58764815e-01]\n",
      " [-7.63898978e-05 -2.75721453e-04 -1.81862599e-01]\n",
      " [-8.16719258e-05 -2.96973207e-04 -2.20820361e-01]\n",
      " [-8.30025204e-05 -3.09284941e-04 -2.04598286e-01]\n",
      " [-8.51700077e-05 -3.12969229e-04 -2.25488539e-01]\n",
      " [-9.19130473e-05 -3.22688679e-04 -2.34347194e-01]\n",
      " [-9.49044094e-05 -3.40916547e-04 -2.51134148e-01]\n",
      " [-9.59082596e-05 -3.59835878e-04 -3.01739454e-01]\n",
      " [-9.69133333e-05 -3.66425846e-04 -3.09999127e-01]\n",
      " [-1.00933541e-04 -3.77326964e-04 -3.28499626e-01]\n",
      " [-1.04696539e-04 -3.85967498e-04 -3.42921703e-01]\n",
      " [-1.05257700e-04 -3.86480437e-04 -3.33483108e-01]\n",
      " [-1.09007724e-04 -4.10406305e-04 -3.64111911e-01]\n",
      " [-1.08685483e-04 -4.08406342e-04 -3.79876709e-01]\n",
      " [-1.11289834e-04 -4.06990683e-04 -4.05738356e-01]\n",
      " [-1.15928054e-04 -4.31315651e-04 -4.16349986e-01]\n",
      " [-1.15217750e-04 -4.34817570e-04 -4.40483843e-01]\n",
      " [-1.20901476e-04 -4.43066029e-04 -4.15909400e-01]\n",
      " [-1.21402450e-04 -4.36501908e-04 -4.56138212e-01]\n",
      " [-1.21335227e-04 -4.59146768e-04 -4.62318405e-01]\n",
      " [-1.25685236e-04 -4.61378245e-04 -4.87413557e-01]\n",
      " [-1.28956869e-04 -4.54122903e-04 -4.83462472e-01]\n",
      " [-1.29835860e-04 -4.84656089e-04 -5.13931972e-01]\n",
      " [-1.31941406e-04 -4.88215928e-04 -5.21948209e-01]\n",
      " [-1.31400212e-04 -4.98320716e-04 -5.48450360e-01]\n",
      " [-1.34521970e-04 -4.92436888e-04 -5.25268855e-01]\n",
      " [-1.37133850e-04 -5.19960009e-04 -5.52864809e-01]\n",
      " [-1.38876079e-04 -5.13430699e-04 -5.59254291e-01]\n",
      " [-1.40758401e-04 -5.24297471e-04 -5.74173143e-01]\n",
      " [-1.43584554e-04 -5.31127252e-04 -6.09774525e-01]\n",
      " [-1.46851140e-04 -5.38931671e-04 -6.07630936e-01]\n",
      " [-1.45194419e-04 -5.33157645e-04 -6.13009258e-01]\n",
      " [-1.48710376e-04 -5.55886403e-04 -6.48612989e-01]\n",
      " [-1.50206738e-04 -5.54665866e-04 -6.55300581e-01]\n",
      " [-1.54827853e-04 -5.80215602e-04 -6.70447551e-01]\n",
      " [-1.52905538e-04 -5.53890231e-04 -6.65588029e-01]\n",
      " [-1.55255692e-04 -5.80120268e-04 -6.97614257e-01]\n",
      " [-1.58809933e-04 -5.79887239e-04 -6.75965695e-01]\n",
      " [-1.60412482e-04 -5.98411614e-04 -7.14191560e-01]\n",
      " [-1.59513246e-04 -5.93637919e-04 -7.41194210e-01]\n",
      " [-1.58891044e-04 -5.97872552e-04 -7.10286437e-01]\n",
      " [-1.62775989e-04 -6.08734618e-04 -7.29344920e-01]\n",
      " [-1.67214485e-04 -6.21075835e-04 -7.65949016e-01]\n",
      " [-1.65107926e-04 -6.18094505e-04 -7.52278840e-01]\n",
      " [-1.68977733e-04 -6.14805802e-04 -7.82135434e-01]\n",
      " [-1.67937735e-04 -6.29886088e-04 -7.90792174e-01]\n",
      " [-1.70994753e-04 -6.31487169e-04 -8.04734365e-01]\n",
      " [-1.74429541e-04 -6.39128399e-04 -8.04126473e-01]\n",
      " [-1.74032976e-04 -6.47782474e-04 -8.23551015e-01]\n",
      " [-1.74150230e-04 -6.52292432e-04 -8.44834761e-01]\n",
      " [-1.73166478e-04 -6.59023636e-04 -8.38683604e-01]\n",
      " [-1.78294028e-04 -6.59549807e-04 -8.68030904e-01]\n",
      " [-1.77903870e-04 -6.69166145e-04 -8.71526439e-01]\n",
      " [-1.80047088e-04 -6.72158861e-04 -8.82818962e-01]\n",
      " [-1.83060551e-04 -6.78934023e-04 -8.87931796e-01]\n",
      " [-1.82863866e-04 -6.85936782e-04 -9.08899340e-01]\n",
      " [-1.81847375e-04 -6.76653129e-04 -9.14618244e-01]\n",
      " [-1.83541503e-04 -6.71428052e-04 -9.15621121e-01]\n",
      " [-1.87603595e-04 -6.79619102e-04 -9.37822986e-01]\n",
      " [-1.87603595e-04 -6.79619102e-04 -9.37822986e-01]\n",
      " [-1.88620086e-04 -6.88902754e-04 -9.32104082e-01]\n",
      " [-1.87495442e-04 -7.01708656e-04 -9.63107080e-01]\n",
      " [-1.90552460e-04 -7.03309736e-04 -9.77049271e-01]\n",
      " [-1.90552460e-04 -7.03309736e-04 -9.77049271e-01]\n",
      " [-1.91275710e-04 -7.12119989e-04 -1.00189243e+00]\n",
      " [-1.91275710e-04 -7.12119989e-04 -1.00189243e+00]\n",
      " [-1.91275710e-04 -7.12119989e-04 -1.00189243e+00]\n",
      " [-1.91275710e-04 -7.12119989e-04 -1.00189243e+00]\n",
      " [-1.91275710e-04 -7.12119989e-04 -1.00189243e+00]\n",
      " [-1.91968555e-04 -7.17039541e-04 -1.01591191e+00]\n",
      " [-1.92614938e-04 -7.26545045e-04 -1.04423028e+00]\n",
      " [-1.92099445e-04 -7.20001339e-04 -1.07247509e+00]\n",
      " [-1.92099445e-04 -7.20001339e-04 -1.07247509e+00]\n",
      " [-1.93027404e-04 -7.14198197e-04 -1.06243963e+00]\n",
      " [-1.94969428e-04 -7.24660684e-04 -1.06182223e+00]\n",
      " [-1.96077448e-04 -7.34456242e-04 -1.08136189e+00]\n",
      " [-1.96582155e-04 -7.33665657e-04 -1.10505338e+00]\n",
      " [-1.96134379e-04 -7.38701419e-04 -1.11827204e+00]\n",
      " [-1.96905211e-04 -7.29134753e-04 -1.12200787e+00]\n",
      " [-1.97628461e-04 -7.37945007e-04 -1.14685103e+00]\n",
      " [-1.97087251e-04 -7.44064722e-04 -1.13815049e+00]\n",
      " [-1.98887939e-04 -7.38213351e-04 -1.16223333e+00]\n",
      " [-1.99717961e-04 -7.56115512e-04 -1.17802493e+00]\n",
      " [-1.99761516e-04 -7.50941432e-04 -1.18685429e+00]\n",
      " [-1.99915704e-04 -7.49401438e-04 -1.18832607e+00]\n",
      " [-2.02104483e-04 -7.51934152e-04 -1.24193683e+00]]\n",
      "[297.95       298.09641458 298.18703826 298.2916517  298.39706048\n",
      " 298.52423553 298.57049822 298.65480236 298.74022346 298.83644255\n",
      " 298.89031563 298.96430333 299.02528743 299.1164132  299.14640886\n",
      " 299.19368148 299.26062935 299.32285883 299.39600629 299.43223979\n",
      " 299.48993891 299.54085025 299.55597688 299.63090454 299.65610463\n",
      " 299.70059357 299.766991   299.79914319 299.83302905 299.86936268\n",
      " 299.91094622 299.96333373 299.98272366 300.05078538 300.08489447\n",
      " 300.12327481 300.13228946 300.20277171 300.22181468 300.26497439\n",
      " 300.31950696 300.35401545 300.35914768 300.43291907 300.45592982\n",
      " 300.5247221  300.50053327 300.57131971 300.58519526 300.64793954\n",
      " 300.66827645 300.6657492  300.71768735 300.78249952 300.77504613\n",
      " 300.82081127 300.84881175 300.88198053 300.91594987 300.94719995\n",
      " 300.97705806 300.98799706 301.03946641 301.06057442 301.09125335\n",
      " 301.12507377 301.15443327 301.15491207 301.16780274 301.21720502\n",
      " 301.22720502 301.24672623 301.28461389 301.31778267 301.32778267\n",
      " 301.36409489 301.37409489 301.38409489 301.39409489 301.40409489\n",
      " 301.42935055 301.46764056 301.48454665 301.49454665 301.49601848\n",
      " 301.52262857 301.55630994 301.58092977 301.60110112 301.60548853\n",
      " 301.64180075 301.64741739 301.67207607 301.70994162 301.71928997\n",
      " 301.72827863 301.77977012]\n"
     ]
    }
   ],
   "source": [
    "XX = X[:,0:3]\n",
    "reg = LinearRegression().fit(XX, Y)\n",
    "print(reg.coef_)\n",
    "print(reg.intercept_)"
   ]
  },
  {
   "cell_type": "code",
   "execution_count": 136,
   "metadata": {},
   "outputs": [
    {
     "data": {
      "text/plain": [
       "array([[297.95      , 297.99144788, 298.02939675, ..., 299.45230914,\n",
       "        299.46116641, 299.47001936],\n",
       "       [297.95      , 297.99386399, 298.03754379, ..., 299.45423889,\n",
       "        299.46325098, 299.46931842],\n",
       "       [297.95      , 298.00078106, 298.04692611, ..., 299.61184952,\n",
       "        299.62074159, 299.63010631],\n",
       "       ...,\n",
       "       [297.95      , 297.99137166, 298.03029829, ..., 299.43837621,\n",
       "        299.44723592, 299.45509398],\n",
       "       [297.95      , 297.98976139, 298.02865377, ..., 299.39049557,\n",
       "        299.39923537, 299.40526167],\n",
       "       [297.95      , 297.97799678, 298.00480067, ..., 299.23234521,\n",
       "        299.24173115, 299.25134921]])"
      ]
     },
     "execution_count": 136,
     "metadata": {},
     "output_type": "execute_result"
    }
   ],
   "source": [
    "y_pred1=reg.predict(XX)\n",
    "y_pred1"
   ]
  },
  {
   "cell_type": "code",
   "execution_count": 137,
   "metadata": {},
   "outputs": [
    {
     "data": {
      "text/plain": [
       "array([[297.95, 297.99, 298.03, ..., 299.45, 299.46, 299.47],\n",
       "       [297.95, 297.99, 298.04, ..., 299.44, 299.45, 299.46],\n",
       "       [297.95, 298.  , 298.05, ..., 299.61, 299.62, 299.63],\n",
       "       ...,\n",
       "       [297.95, 297.99, 298.03, ..., 299.44, 299.44, 299.45],\n",
       "       [297.95, 297.99, 298.03, ..., 299.4 , 299.41, 299.42],\n",
       "       [297.95, 297.98, 298.01, ..., 299.24, 299.25, 299.26]])"
      ]
     },
     "execution_count": 137,
     "metadata": {},
     "output_type": "execute_result"
    }
   ],
   "source": [
    "Y"
   ]
  },
  {
   "cell_type": "code",
   "execution_count": 142,
   "metadata": {},
   "outputs": [
    {
     "data": {
      "text/plain": [
       "7.87650238245814e-05"
      ]
     },
     "execution_count": 142,
     "metadata": {},
     "output_type": "execute_result"
    }
   ],
   "source": [
    "mse1 = mean_squared_error(Y, y_pred1)\n",
    "mse1"
   ]
  },
  {
   "cell_type": "code",
   "execution_count": 141,
   "metadata": {},
   "outputs": [
    {
     "data": {
      "text/plain": [
       "[<matplotlib.lines.Line2D at 0x1f31f836d30>]"
      ]
     },
     "execution_count": 141,
     "metadata": {},
     "output_type": "execute_result"
    },
    {
     "data": {
      "image/png": "[encoded data removed]",
      "text/plain": [
       "<Figure size 432x288 with 1 Axes>"
      ]
     },
     "metadata": {
      "needs_background": "light"
     },
     "output_type": "display_data"
    }
   ],
   "source": [
    "plt.plot(y_pred1[1,:])"
   ]
  },
  {
   "cell_type": "code",
   "execution_count": null,
   "metadata": {},
   "outputs": [],
   "source": []
  },
  {
   "cell_type": "code",
   "execution_count": null,
   "metadata": {},
   "outputs": [],
   "source": []
  }
 ],
 "metadata": {
  "kernelspec": {
   "display_name": "Python 3",
   "language": "python",
   "name": "python3"
  },
  "language_info": {
   "codemirror_mode": {
    "name": "ipython",
    "version": 3
   },
   "file_extension": ".py",
   "mimetype": "text/x-python",
   "name": "python",
   "nbconvert_exporter": "python",
   "pygments_lexer": "ipython3",
   "version": "3.8.5"
  }
 },
 "nbformat": 4,
 "nbformat_minor": 4
}
