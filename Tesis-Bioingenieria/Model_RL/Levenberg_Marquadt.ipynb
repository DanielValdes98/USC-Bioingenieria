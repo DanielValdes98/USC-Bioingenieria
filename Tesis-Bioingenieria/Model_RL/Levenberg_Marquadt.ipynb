{
 "cells": [
  {
   "cell_type": "code",
   "execution_count": 3,
   "metadata": {},
   "outputs": [],
   "source": [
    "#cargar librerias necesarias\n",
    "import numpy as np\n",
    "import matplotlib.pyplot as plt\n",
    "from sklearn.linear_model import LinearRegression\n",
    "from sklearn import metrics\n",
    "from sklearn.metrics import mean_squared_error\n",
    "from sklearn.model_selection import train_test_split\n",
    "import time\n",
    "\n",
    "from sklearn.preprocessing import StandardScaler\n",
    "\n",
    "from sklearn.linear_model import SGDRegressor\n",
    "%matplotlib inline"
   ]
  },
  {
   "cell_type": "code",
   "execution_count": 4,
   "metadata": {},
   "outputs": [],
   "source": [
    "import sys\n",
    "np.set_printoptions(threshold=sys.maxsize)"
   ]
  },
  {
   "cell_type": "code",
   "execution_count": 5,
   "metadata": {},
   "outputs": [],
   "source": [
    "from joblib import dump, load\n",
    "\n",
    "#RL_model = load('model_RL_27-06-2021.joblib') ---> MEJOR MODELO ENTRENADO HASTA AHORA\n",
    "RL_model = load('model_RL_07-09-2021.joblib') # Se carga el último modelo entrenado"
   ]
  },
  {
   "cell_type": "code",
   "execution_count": 6,
   "metadata": {},
   "outputs": [],
   "source": [
    "#Se cargan datos de simulacion con los valores exactos en Comsol with Matlab. Mi_H2O = 45.08\n",
    "dataSimulacionValExact50 = np.loadtxt('Datasets\\BBDD_data_wt_Nanofluid_50.txt',delimiter=',')\n",
    "#Se cargan datos de simulacion con los valores exactos en Comsol with Matlab. Mi_H2O = 13.72\n",
    "dataSimulacionValExact25 = np.loadtxt('Datasets\\BBDD_data_wt_Nanofluid_25.txt',delimiter=',')\n",
    "#Se cargan datos de simulacion con los valores exactos en Comsol with Matlab. Mi_H2O = 1.96\n",
    "dataSimulacionValExactDW = np.loadtxt('Datasets\\BBDD_data_wt_Nanofluid_DW.txt',delimiter=',')\n",
    "\n",
    "\n",
    "# Variables de entrada:\n",
    "XExact50 = dataSimulacionValExact50[:4]\n",
    "XExact25 = dataSimulacionValExact25[:4]\n",
    "XExactDW = dataSimulacionValExactDW[:4]\n",
    "\n",
    "# Temperatura de salida:\n",
    "YExact50 = dataSimulacionValExact50[4:101]\n",
    "YExact25 = dataSimulacionValExact25[4:101]\n",
    "YExactDW = dataSimulacionValExactDW[4:101]"
   ]
  },
  {
   "cell_type": "code",
   "execution_count": 7,
   "metadata": {
    "scrolled": true
   },
   "outputs": [],
   "source": [
    "Y_Exact_values_Comsol = np.vstack((YExact50,YExact25,YExactDW))"
   ]
  },
  {
   "cell_type": "code",
   "execution_count": 8,
   "metadata": {
    "scrolled": true
   },
   "outputs": [
    {
     "data": {
      "text/plain": [
       "array([[1.0000e-04, 6.9500e-02, 1.3510e-01, 1.9760e-01, 2.5760e-01,\n",
       "        3.1510e-01, 3.7010e-01, 4.2370e-01, 4.7550e-01, 5.2560e-01,\n",
       "        5.7370e-01, 6.2000e-01, 6.6440e-01, 7.0850e-01, 7.5180e-01,\n",
       "        7.9390e-01, 8.3480e-01, 8.7440e-01, 9.1280e-01, 9.4990e-01,\n",
       "        9.8580e-01, 1.0204e+00, 1.0540e+00, 1.0886e+00, 1.1224e+00,\n",
       "        1.1553e+00, 1.1875e+00, 1.2189e+00, 1.2495e+00, 1.2793e+00,\n",
       "        1.3083e+00, 1.3365e+00, 1.3646e+00, 1.3929e+00, 1.4208e+00,\n",
       "        1.4481e+00, 1.4749e+00, 1.5012e+00, 1.5270e+00, 1.5523e+00,\n",
       "        1.5771e+00, 1.6014e+00, 1.6259e+00, 1.6500e+00, 1.6738e+00,\n",
       "        1.6972e+00, 1.7203e+00, 1.7429e+00, 1.7652e+00, 1.7872e+00,\n",
       "        1.8088e+00, 1.8301e+00, 1.8513e+00, 1.8723e+00, 1.8929e+00,\n",
       "        1.9132e+00, 1.9333e+00, 1.9530e+00, 1.9725e+00, 1.9916e+00,\n",
       "        2.0105e+00, 2.0293e+00, 2.0479e+00, 2.0662e+00, 2.0844e+00,\n",
       "        2.1023e+00, 2.1199e+00, 2.1373e+00, 2.1545e+00, 2.1715e+00,\n",
       "        2.1882e+00, 2.2049e+00, 2.2215e+00, 2.2378e+00, 2.2540e+00,\n",
       "        2.2700e+00, 2.2858e+00, 2.3014e+00, 2.3168e+00, 2.3320e+00,\n",
       "        2.3472e+00, 2.3623e+00, 2.3772e+00, 2.3920e+00, 2.4066e+00,\n",
       "        2.4211e+00, 2.4354e+00, 2.4496e+00, 2.4636e+00, 2.4775e+00,\n",
       "        2.4913e+00, 2.5051e+00, 2.5187e+00, 2.5322e+00, 2.5455e+00,\n",
       "        2.5588e+00, 2.5719e+00],\n",
       "       [0.0000e+00, 2.1300e-02, 4.1600e-02, 6.1100e-02, 7.9800e-02,\n",
       "        9.7900e-02, 1.1520e-01, 1.3210e-01, 1.4850e-01, 1.6440e-01,\n",
       "        1.7970e-01, 1.9450e-01, 2.0880e-01, 2.2290e-01, 2.3680e-01,\n",
       "        2.5030e-01, 2.6340e-01, 2.7610e-01, 2.8850e-01, 3.0050e-01,\n",
       "        3.1210e-01, 3.2330e-01, 3.3420e-01, 3.4540e-01, 3.5630e-01,\n",
       "        3.6690e-01, 3.7730e-01, 3.8750e-01, 3.9740e-01, 4.0700e-01,\n",
       "        4.1640e-01, 4.2550e-01, 4.3460e-01, 4.4380e-01, 4.5280e-01,\n",
       "        4.6160e-01, 4.7020e-01, 4.7870e-01, 4.8700e-01, 4.9520e-01,\n",
       "        5.0320e-01, 5.1100e-01, 5.1890e-01, 5.2660e-01, 5.3430e-01,\n",
       "        5.4180e-01, 5.4930e-01, 5.5660e-01, 5.6370e-01, 5.7080e-01,\n",
       "        5.7780e-01, 5.8460e-01, 5.9150e-01, 5.9820e-01, 6.0490e-01,\n",
       "        6.1150e-01, 6.1790e-01, 6.2430e-01, 6.3060e-01, 6.3680e-01,\n",
       "        6.4290e-01, 6.4900e-01, 6.5500e-01, 6.6100e-01, 6.6680e-01,\n",
       "        6.7260e-01, 6.7840e-01, 6.8400e-01, 6.8960e-01, 6.9510e-01,\n",
       "        7.0050e-01, 7.0590e-01, 7.1130e-01, 7.1660e-01, 7.2180e-01,\n",
       "        7.2700e-01, 7.3210e-01, 7.3720e-01, 7.4220e-01, 7.4720e-01,\n",
       "        7.5210e-01, 7.5700e-01, 7.6180e-01, 7.6660e-01, 7.7130e-01,\n",
       "        7.7600e-01, 7.8070e-01, 7.8530e-01, 7.8980e-01, 7.9430e-01,\n",
       "        7.9880e-01, 8.0320e-01, 8.0760e-01, 8.1200e-01, 8.1630e-01,\n",
       "        8.2060e-01, 8.2480e-01],\n",
       "       [0.0000e+00, 3.1000e-03, 6.0000e-03, 8.8000e-03, 1.1500e-02,\n",
       "        1.4100e-02, 1.6600e-02, 1.9100e-02, 2.1400e-02, 2.3700e-02,\n",
       "        2.6000e-02, 2.8100e-02, 3.0200e-02, 3.2200e-02, 3.4300e-02,\n",
       "        3.6200e-02, 3.8100e-02, 4.0000e-02, 4.1800e-02, 4.3600e-02,\n",
       "        4.5300e-02, 4.6900e-02, 4.8500e-02, 5.0100e-02, 5.1700e-02,\n",
       "        5.3300e-02, 5.4800e-02, 5.6300e-02, 5.7700e-02, 5.9100e-02,\n",
       "        6.0500e-02, 6.1800e-02, 6.3200e-02, 6.4500e-02, 6.5800e-02,\n",
       "        6.7100e-02, 6.8400e-02, 6.9600e-02, 7.0800e-02, 7.2000e-02,\n",
       "        7.3200e-02, 7.4300e-02, 7.5500e-02, 7.6600e-02, 7.7700e-02,\n",
       "        7.8800e-02, 7.9900e-02, 8.1000e-02, 8.2000e-02, 8.3100e-02,\n",
       "        8.4100e-02, 8.5100e-02, 8.6100e-02, 8.7100e-02, 8.8000e-02,\n",
       "        8.9000e-02, 8.9900e-02, 9.0900e-02, 9.1800e-02, 9.2700e-02,\n",
       "        9.3600e-02, 9.4500e-02, 9.5400e-02, 9.6200e-02, 9.7100e-02,\n",
       "        9.7900e-02, 9.8800e-02, 9.9600e-02, 1.0040e-01, 1.0120e-01,\n",
       "        1.0200e-01, 1.0280e-01, 1.0360e-01, 1.0440e-01, 1.0510e-01,\n",
       "        1.0590e-01, 1.0660e-01, 1.0740e-01, 1.0810e-01, 1.0880e-01,\n",
       "        1.0960e-01, 1.1030e-01, 1.1100e-01, 1.1170e-01, 1.1240e-01,\n",
       "        1.1310e-01, 1.1370e-01, 1.1440e-01, 1.1510e-01, 1.1570e-01,\n",
       "        1.1640e-01, 1.1700e-01, 1.1770e-01, 1.1830e-01, 1.1900e-01,\n",
       "        1.1960e-01, 1.2020e-01]])"
      ]
     },
     "execution_count": 8,
     "metadata": {},
     "output_type": "execute_result"
    }
   ],
   "source": [
    "# Temperatura incial(COMSOL)= 297.95\n",
    "DTPE_Exact_Comsol = Y_Exact_values_Comsol - 297.95\n",
    "DTPE_Exact_Comsol"
   ]
  },
  {
   "cell_type": "markdown",
   "metadata": {},
   "source": [
    "# ALGORITMO DE LEVENBERG - MARQUADT"
   ]
  },
  {
   "cell_type": "code",
   "execution_count": 9,
   "metadata": {
    "scrolled": true
   },
   "outputs": [
    {
     "data": {
      "text/plain": [
       "array([297.94678837, 297.96941048, 297.98785385, 298.0113753 ,\n",
       "       298.03110558, 298.05289906, 298.05318215, 298.07522588,\n",
       "       298.1090136 , 298.11597153, 298.12871163, 298.14123519,\n",
       "       298.16574466, 298.16789366, 298.18565516, 298.2042892 ,\n",
       "       298.21664477, 298.225258  , 298.23450285, 298.24702742,\n",
       "       298.25991881, 298.27535278, 298.28178684, 298.3091056 ,\n",
       "       298.30714018, 298.31983219, 298.33610186, 298.33430405,\n",
       "       298.3430297 , 298.35554805, 298.3688671 , 298.38726917,\n",
       "       298.3800248 , 298.3870871 , 298.40257672, 298.40368521,\n",
       "       298.41559445, 298.43108402, 298.43656008, 298.44749004,\n",
       "       298.45748734, 298.46240128, 298.47061008, 298.47187198,\n",
       "       298.47936268, 298.49418509, 298.49179622, 298.5045643 ,\n",
       "       298.50702601, 298.52392349, 298.52716354, 298.52880641,\n",
       "       298.55479864, 298.5520192 , 298.5529205 , 298.570102  ,\n",
       "       298.57426117, 298.58285895, 298.58551065, 298.5909198 ,\n",
       "       298.59858949, 298.5903893 , 298.5983536 , 298.62113472,\n",
       "       298.60345728, 298.62214639, 298.63042054, 298.63317493,\n",
       "       298.6428046 , 298.65085087, 298.65237533, 298.64995971,\n",
       "       298.6552431 , 298.66341981, 298.67086267, 298.68977822,\n",
       "       298.69371136, 298.68216542, 298.69517531, 298.70062148,\n",
       "       298.71202163, 298.70391614, 298.71801543, 298.72464186,\n",
       "       298.72282499, 298.72722847, 298.7271001 , 298.72323794,\n",
       "       298.73363198, 298.74991601, 298.74835903, 298.74586993,\n",
       "       298.75672298, 298.76108026, 298.76600016, 298.77215406,\n",
       "       298.77843226])"
      ]
     },
     "execution_count": 9,
     "metadata": {},
     "output_type": "execute_result"
    }
   ],
   "source": [
    "import random\n",
    "\n",
    "mu, sigma, e = 0, 0.05, 0.1 # mean and standard deviation\n",
    "Y = np.random.normal(YExact25, sigma*e)\n",
    "Y\n",
    "\n",
    "# OTRA FORMA DE GENERAR UN ERROR, PERO ES EL MISMO VALOR SUMADO A CADA VALOR DE TEMPERATURA:\n",
    "# # determining the values of the parameters\n",
    "# mu = 0.1\n",
    "# sigma = 0.05\n",
    "\n",
    "# error_gauss = random.gauss(mu, sigma) # Otra forma: error_gauss = random.gauss(YExact25, sigma)\n",
    "  \n",
    "# # using the gauss() method\n",
    "# print(error_gauss)\n",
    "\n",
    "# YExact25_error = YExact25 + error_gauss\n",
    "\n",
    "# plt.plot(error_gauss)\n",
    "# plt.plot(YExact25,'--r')"
   ]
  },
  {
   "cell_type": "code",
   "execution_count": 10,
   "metadata": {
    "scrolled": true
   },
   "outputs": [
    {
     "data": {
      "text/plain": [
       "[<matplotlib.lines.Line2D at 0x1ff446e4580>]"
      ]
     },
     "execution_count": 10,
     "metadata": {},
     "output_type": "execute_result"
    },
    {
     "data": {
      "image/png": "[encoded data removed]",
      "text/plain": [
       "<Figure size 1440x720 with 1 Axes>"
      ]
     },
     "metadata": {
      "needs_background": "light"
     },
     "output_type": "display_data"
    }
   ],
   "source": [
    "plt.figure(figsize=(20, 10))\n",
    "plt.plot(YExact25)\n",
    "plt.plot(Y,'.r')"
   ]
  },
  {
   "cell_type": "code",
   "execution_count": 11,
   "metadata": {},
   "outputs": [],
   "source": [
    "# Parametros fijos:\n",
    "cp = 4184.1 \n",
    "k = 0.6034 \n",
    "\n",
    "# Parametros a estimar:\n",
    "nwp = 998.20 + 998.20*0.1 # Valor exacto = 998.20\n",
    "nmi_h2o = 13.72 + 13.72*0.1 # Valor exacto = 13.72\n",
    "\n",
    "# Vector de entrada:\n",
    "P = [cp, nwp, k, nmi_h2o]\n",
    "P = np.array(P)"
   ]
  },
  {
   "cell_type": "code",
   "execution_count": 12,
   "metadata": {},
   "outputs": [
    {
     "data": {
      "text/plain": [
       "array([[4.184100e+03, 1.098020e+03, 6.034000e-01, 1.509200e+01],\n",
       "       [4.602510e+03, 1.098020e+03, 6.034000e-01, 1.509200e+01],\n",
       "       [3.765690e+03, 1.098020e+03, 6.034000e-01, 1.509200e+01],\n",
       "       [4.184100e+03, 1.207822e+03, 6.034000e-01, 1.509200e+01],\n",
       "       [4.184100e+03, 9.882180e+02, 6.034000e-01, 1.509200e+01],\n",
       "       [4.184100e+03, 1.098020e+03, 6.637400e-01, 1.509200e+01],\n",
       "       [4.184100e+03, 1.098020e+03, 5.430600e-01, 1.509200e+01],\n",
       "       [4.184100e+03, 1.098020e+03, 6.034000e-01, 1.660120e+01],\n",
       "       [4.184100e+03, 1.098020e+03, 6.034000e-01, 1.358280e+01]])"
      ]
     },
     "execution_count": 12,
     "metadata": {},
     "output_type": "execute_result"
    }
   ],
   "source": [
    "a = np.zeros((9, 4))\n",
    "x_senb = np.empty_like(a)\n",
    "x_senb[0] = P\n",
    "x_senb[1] = [cp+cp*0.1, nwp, k, nmi_h2o] #Tcp(+)\n",
    "x_senb[2] = [cp-cp*0.1, nwp, k, nmi_h2o] #Tcp(-)\n",
    "x_senb[3] = [cp, nwp+nwp*0.1, k, nmi_h2o] #Tp(+)\n",
    "x_senb[4] = [cp, nwp-nwp*0.1, k, nmi_h2o] #Tp(-)\n",
    "x_senb[5] = [cp, nwp, k+k*0.1, nmi_h2o] #Tk(+)\n",
    "x_senb[6] = [cp, nwp, k-k*0.1, nmi_h2o] #Tk(-)\n",
    "x_senb[7] = [cp, nwp, k, nmi_h2o+nmi_h2o*0.1] #Tmi_h2o(+)\n",
    "x_senb[8] = [cp, nwp, k, nmi_h2o-nmi_h2o*0.1] #Tmi_h2o(-)\n",
    "x_senb"
   ]
  },
  {
   "cell_type": "code",
   "execution_count": 13,
   "metadata": {},
   "outputs": [
    {
     "name": "stdout",
     "output_type": "stream",
     "text": [
      "Tiempo total validación: 0.000997304916381836 segundos\n"
     ]
    }
   ],
   "source": [
    "#test exact\n",
    "start = time.time() # Iniciar medida del tiempo\n",
    "y_predT = RL_model.predict(x_senb)\n",
    "#score_test = model.score(x_test, y_test)\n",
    "end = time.time() # Tomar el tiempo final\n",
    "total = end - start\n",
    "print('Tiempo total validación: ' + str(total) + ' segundos')\n",
    "#print('Score test: %f' % score_test,\"\\n\")"
   ]
  },
  {
   "cell_type": "code",
   "execution_count": 14,
   "metadata": {},
   "outputs": [],
   "source": [
    "Jcp = (y_predT[1] - y_predT[2]) / (2*0.1*cp)\n",
    "Jp = (y_predT[3] - y_predT[4]) / (2*0.1*nwp)\n",
    "Jk = (y_predT[5] - y_predT[6]) / (2*0.1*k)\n",
    "Jmi_h2o = (y_predT[7] - y_predT[8]) / (2*0.1*nmi_h2o)"
   ]
  },
  {
   "cell_type": "code",
   "execution_count": 15,
   "metadata": {},
   "outputs": [
    {
     "data": {
      "image/png": "[encoded data removed]",
      "text/plain": [
       "<Figure size 432x288 with 4 Axes>"
      ]
     },
     "metadata": {
      "needs_background": "light"
     },
     "output_type": "display_data"
    }
   ],
   "source": [
    "fig, axs = plt.subplots(2, 2)\n",
    "axs[0, 0].plot(Jcp)\n",
    "#axs[0, 0].set_title(\"Jcp\")\n",
    "axs[0, 0].set(xlabel='Tiempo(s)',ylabel='Jcp')\n",
    "axs[1, 0].plot(Jp)\n",
    "#axs[1, 0].set_title(\"Jp\")\n",
    "axs[1, 0].set(xlabel='Tiempo(s)',ylabel='Jp')\n",
    "axs[1, 0].sharex(axs[0, 0])\n",
    "axs[0, 1].plot(Jk)\n",
    "axs[0, 1].set(xlabel='Tiempo(s)',ylabel='Jk')\n",
    "#axs[0, 1].set_title(\"Jk\")\n",
    "axs[1, 1].plot(Jmi_h2o)\n",
    "#axs[1, 1].set_title(\"Jmi_H2O\")\n",
    "axs[1, 1].set(xlabel='Tiempo(s)',ylabel='Jmi_h2o')\n",
    "              \n",
    "\n",
    "fig.tight_layout()\n",
    "\n",
    "#fig.suptitle('Análisis de sensibilidad')\n",
    "\n",
    "# for ax in axs.flat:\n",
    "#     ax.set(xlabel='Tiempo(s)\\n', ylabel='∆T(°C)\\n')\n",
    "\n",
    "plt.savefig('analisisenb_2daImagen.png',bbox_inches='tight')"
   ]
  },
  {
   "cell_type": "code",
   "execution_count": 16,
   "metadata": {},
   "outputs": [
    {
     "name": "stdout",
     "output_type": "stream",
     "text": [
      "Dimensiones:\n",
      "(97, 2)\n",
      "(2, 2) \n",
      "\n",
      "Valores:\n",
      "[[1.27425485e-04 0.00000000e+00]\n",
      " [0.00000000e+00 1.32728203e-01]]\n"
     ]
    },
    {
     "ename": "NameError",
     "evalue": "name 'nk' is not defined",
     "output_type": "error",
     "traceback": [
      "\u001b[1;31m---------------------------------------------------------------------------\u001b[0m",
      "\u001b[1;31mNameError\u001b[0m                                 Traceback (most recent call last)",
      "\u001b[1;32m<ipython-input-16-e735d85b65f9>\u001b[0m in \u001b[0;36m<module>\u001b[1;34m\u001b[0m\n\u001b[0;32m     17\u001b[0m \u001b[0mprint\u001b[0m\u001b[1;33m(\u001b[0m\u001b[1;34m\"Valores:\"\u001b[0m\u001b[1;33m)\u001b[0m\u001b[1;33m\u001b[0m\u001b[1;33m\u001b[0m\u001b[0m\n\u001b[0;32m     18\u001b[0m \u001b[0mprint\u001b[0m\u001b[1;33m(\u001b[0m\u001b[0momega\u001b[0m\u001b[1;33m)\u001b[0m\u001b[1;33m\u001b[0m\u001b[1;33m\u001b[0m\u001b[0m\n\u001b[1;32m---> 19\u001b[1;33m \u001b[0mprint\u001b[0m\u001b[1;33m(\u001b[0m\u001b[0mnk\u001b[0m\u001b[1;33m)\u001b[0m\u001b[1;33m\u001b[0m\u001b[1;33m\u001b[0m\u001b[0m\n\u001b[0m\u001b[0;32m     20\u001b[0m \u001b[0mprint\u001b[0m\u001b[1;33m(\u001b[0m\u001b[0mnmi_h2o\u001b[0m\u001b[1;33m)\u001b[0m\u001b[1;33m\u001b[0m\u001b[1;33m\u001b[0m\u001b[0m\n\u001b[0;32m     21\u001b[0m \u001b[0mprint\u001b[0m\u001b[1;33m(\u001b[0m\u001b[0mP\u001b[0m\u001b[1;33m)\u001b[0m\u001b[1;33m\u001b[0m\u001b[1;33m\u001b[0m\u001b[0m\n",
      "\u001b[1;31mNameError\u001b[0m: name 'nk' is not defined"
     ]
    }
   ],
   "source": [
    "from numpy.linalg import norm \n",
    "import pandas as pd\n",
    "\n",
    "# Otras variables:\n",
    "J = np.array((Jp, Jmi_h2o)).T\n",
    "omega = np.diag(np.diag(J.T.dot(J))) # MATLAB ---> omega = diag(diag(J'*J)) // Matriz 2x2\n",
    "mi = 0.001\n",
    "\n",
    "#Para probar en MATLAB:\n",
    "df = pd.DataFrame(J)\n",
    "df.to_excel('J.xlsx')\n",
    "\n",
    "print(\"Dimensiones:\")\n",
    "print(J.shape)\n",
    "print(omega.shape,'\\n')\n",
    "\n",
    "print(\"Valores:\")\n",
    "print(omega)\n",
    "print(nk)\n",
    "print(nmi_h2o)\n",
    "print(P)"
   ]
  },
  {
   "cell_type": "code",
   "execution_count": null,
   "metadata": {},
   "outputs": [],
   "source": [
    "def Fun_S():\n",
    "    import numpy as np\n",
    "    # Y = evalin('base','Y');\n",
    "    Taux = RL_model.predict(P.reshape(1,-1)) # Taux = modelo2(P); %comsol\n",
    "    T= Taux.T # T = Taux[P,:].T\n",
    "    s = (Y-T).T * (Y-T)\n",
    "    return s, T"
   ]
  },
  {
   "cell_type": "code",
   "execution_count": null,
   "metadata": {},
   "outputs": [],
   "source": [
    "s, Td = Fun_S()"
   ]
  },
  {
   "cell_type": "code",
   "execution_count": null,
   "metadata": {
    "scrolled": true
   },
   "outputs": [],
   "source": [
    "PP = P.dot(P) - (P.dot(P) + np.linalg.inv(J.T.dot(J) + mi*omega).dot(J.T).dot(Y-T))\n",
    "PP.shape"
   ]
  },
  {
   "cell_type": "code",
   "execution_count": null,
   "metadata": {},
   "outputs": [],
   "source": [
    "from numpy.linalg import norm \n",
    "\n",
    "Taux = RL_model.predict(P.reshape(1,-1))\n",
    "J = np.array((Jp, Jmi_h2o)).T\n",
    "omega = np.diag(np.diag(J.T.dot(J))) # MATLAB ---> omega = diag(diag(J'*J)) // Matriz 2x2\n",
    "mi = 0.001\n",
    "P_pro = P.dot(P) + (np.linalg.inv(J.T.dot(J) + mi*omega).dot(J.T)).dot(Y-T)\n",
    "\n",
    "i=1\n",
    "while (norm(P.dot(P)-(P_pro)) > 10e-5):\n",
    "    Taux = RL_model.predict(P.reshape(1,-1))\n",
    "    J = np.array((Jp, Jmi_h2o)).T\n",
    "    omega = np.diag(np.diag(J.T.dot(J))) # MATLAB ---> omega = diag(diag(J'*J)) // Matriz 2x2\n",
    "    \n",
    "    if (Fun_S(T) < Fun_S(P_pro[0])):\n",
    "        mi = 10*mi\n",
    "        \n",
    "    else:\n",
    "        P = P.dot(P) + np.linalg.inv(J.T.dot(J) + mi*omega).dot(J.T).dot(Y-T)\n",
    "        mi = 0.1*mi\n",
    "\n",
    "    i = i + 1\n",
    "res = P"
   ]
  },
  {
   "cell_type": "code",
   "execution_count": null,
   "metadata": {},
   "outputs": [],
   "source": [
    "P_pro.shape"
   ]
  },
  {
   "cell_type": "code",
   "execution_count": null,
   "metadata": {},
   "outputs": [],
   "source": [
    "T.shape"
   ]
  },
  {
   "cell_type": "code",
   "execution_count": null,
   "metadata": {},
   "outputs": [],
   "source": [
    "Y.shape"
   ]
  },
  {
   "cell_type": "code",
   "execution_count": null,
   "metadata": {},
   "outputs": [],
   "source": [
    "s.shape"
   ]
  },
  {
   "cell_type": "code",
   "execution_count": null,
   "metadata": {
    "scrolled": true
   },
   "outputs": [],
   "source": [
    "P_pro"
   ]
  },
  {
   "cell_type": "code",
   "execution_count": null,
   "metadata": {},
   "outputs": [],
   "source": [
    "# P.dot(P) + (np.linalg.inv(J.T.dot(J) + mi*omega).dot(J.T)).dot(Y-T) #Check"
   ]
  },
  {
   "cell_type": "code",
   "execution_count": null,
   "metadata": {},
   "outputs": [],
   "source": [
    "P.dot(P) + (np.linalg.inv(J.T.dot(J) + mi*omega).dot(J.T)).dot(Y-Td).shape"
   ]
  },
  {
   "cell_type": "code",
   "execution_count": null,
   "metadata": {},
   "outputs": [],
   "source": [
    "Fun_S(Td)"
   ]
  },
  {
   "cell_type": "code",
   "execution_count": null,
   "metadata": {},
   "outputs": [],
   "source": [
    "Fun_S(P_pro[1])"
   ]
  },
  {
   "cell_type": "code",
   "execution_count": null,
   "metadata": {},
   "outputs": [],
   "source": [
    "Fun_S(T).shape"
   ]
  },
  {
   "cell_type": "code",
   "execution_count": null,
   "metadata": {},
   "outputs": [],
   "source": [
    "res"
   ]
  },
  {
   "cell_type": "code",
   "execution_count": 20,
   "metadata": {},
   "outputs": [
    {
     "data": {
      "text/plain": [
       "array([[18712462.37083685, 18712414.63856419, 18712375.72334475,\n",
       "        18712326.0934623 , 18712284.46289728, 18712238.47899465,\n",
       "        18712237.88169528, 18712191.36976695, 18712120.07823822,\n",
       "        18712105.39710424, 18712078.51571649, 18712052.09119087,\n",
       "        18712000.37662107, 18711995.84225661, 18711958.36578849,\n",
       "        18711919.04825892, 18711892.97821149, 18711874.8044308 ,\n",
       "        18711855.2979382 , 18711828.87129869, 18711801.67068098,\n",
       "        18711769.10524509, 18711755.52949363, 18711697.88733888,\n",
       "        18711702.03435545, 18711675.25442694, 18711640.92568164,\n",
       "        18711644.71902123, 18711626.30803687, 18711599.8945408 ,\n",
       "        18711571.79155333, 18711532.96347267, 18711548.24897775,\n",
       "        18711533.34763676, 18711500.6647889 , 18711498.32591078,\n",
       "        18711473.19760063, 18711440.51486125, 18711428.96046234,\n",
       "        18711405.89841141, 18711384.80427589, 18711374.43593747,\n",
       "        18711357.11551718, 18711354.45291831, 18711338.64767342,\n",
       "        18711307.37262473, 18711312.4130946 , 18711285.47266351,\n",
       "        18711280.27849581, 18711244.62507316, 18711237.78861863,\n",
       "        18711234.32219313, 18711179.47901675, 18711185.34357734,\n",
       "        18711183.44185124, 18711147.18915959, 18711138.41339263,\n",
       "        18711120.27219995, 18711114.67715924, 18711103.26394471,\n",
       "        18711087.08102162, 18711104.38329934, 18711087.57873824,\n",
       "        18711039.51095539, 18711076.81006745, 18711037.37634678,\n",
       "        18711019.9180293 , 18711014.10630226, 18710993.78785933,\n",
       "        18710976.81035361, 18710973.59377941, 18710978.69068451,\n",
       "        18710967.54283044, 18710950.29010873, 18710934.58579002,\n",
       "        18710894.67428534, 18710886.37542681, 18710910.73716895,\n",
       "        18710883.28650182, 18710871.79517722, 18710847.74104046,\n",
       "        18710864.84350651, 18710835.09423332, 18710821.1125614 ,\n",
       "        18710824.94613668, 18710815.65486161, 18710815.92572095,\n",
       "        18710824.07481944, 18710802.14355611, 18710767.78450727,\n",
       "        18710771.06972031, 18710776.32167948, 18710753.42191806,\n",
       "        18710744.22812366, 18710733.84721717, 18710720.86258338,\n",
       "        18710707.61569204],\n",
       "       [18712551.27372365, 18712550.36893613, 18712549.63127996,\n",
       "        18712548.69052236, 18712547.90139555, 18712547.0297492 ,\n",
       "        18712547.01842711, 18712546.13677178, 18712544.78540755,\n",
       "        18712544.5071198 , 18712543.99757054, 18712543.49668131,\n",
       "        18712542.51640748, 18712542.43045648, 18712541.72007252,\n",
       "        18712540.97479038, 18712540.48062046, 18712540.13612796,\n",
       "        18712539.76637328, 18712539.26544398, 18712538.74984356,\n",
       "        18712538.13255051, 18712537.8752158 , 18712536.78258183,\n",
       "        18712536.86119047, 18712536.35356442, 18712535.70284701,\n",
       "        18712535.77475154, 18712535.42576272, 18712534.92508257,\n",
       "        18712534.39237731, 18712533.65637291, 18712533.9461168 ,\n",
       "        18712533.66365492, 18712533.04413627, 18712532.99980174,\n",
       "        18712532.52348289, 18712531.90396629, 18712531.68494726,\n",
       "        18712531.24779531, 18712530.84794612, 18712530.65140942,\n",
       "        18712530.32309277, 18712530.27262196, 18712529.97302616,\n",
       "        18712529.380193  , 18712529.47573746, 18712528.96506901,\n",
       "        18712528.86661113, 18712528.19078385, 18712528.06119566,\n",
       "        18712527.99548795, 18712526.95590992, 18712527.06707541,\n",
       "        18712527.0310273 , 18712526.3438406 , 18712526.17749183,\n",
       "        18712525.83361705, 18712525.72756044, 18712525.51121763,\n",
       "        18712525.20446276, 18712525.53243552, 18712525.21389721,\n",
       "        18712524.30274993, 18712525.00977203, 18712524.26228743,\n",
       "        18712523.93135687, 18712523.82119286, 18712523.43604729,\n",
       "        18712523.11423074, 18712523.05325907, 18712523.14987329,\n",
       "        18712522.9385605 , 18712522.61152711, 18712522.31384441,\n",
       "        18712521.55730319, 18712521.39999446, 18712521.86178266,\n",
       "        18712521.34144244, 18712521.12361901, 18712520.66766161,\n",
       "        18712520.99184684, 18712520.42793547, 18712520.16290635,\n",
       "        18712520.23557356, 18712520.0594531 , 18712520.06458737,\n",
       "        18712520.21905734, 18712519.80334   , 18712519.15204817,\n",
       "        18712519.21432092, 18712519.31387426, 18712518.87979859,\n",
       "        18712518.70552592, 18712518.50875099, 18712518.26262119,\n",
       "        18712518.01152018]])"
      ]
     },
     "execution_count": 20,
     "metadata": {},
     "output_type": "execute_result"
    }
   ],
   "source": [
    "Taux = RL_model.predict(P.reshape(1,-1))\n",
    "P.dot(P) + np.linalg.inv(J.T.dot(J) + mi*omega).dot(J.T).dot(Y-Taux.T)"
   ]
  },
  {
   "cell_type": "code",
   "execution_count": null,
   "metadata": {},
   "outputs": [],
   "source": [
    "13.72 + 13.72*0.1"
   ]
  },
  {
   "cell_type": "code",
   "execution_count": 21,
   "metadata": {},
   "outputs": [
    {
     "data": {
      "text/plain": [
       "array([297.95  , 297.9713, 297.9916, 298.0111, 298.0298, 298.0479,\n",
       "       298.0652, 298.0821, 298.0985, 298.1144, 298.1297, 298.1445,\n",
       "       298.1588, 298.1729, 298.1868, 298.2003, 298.2134, 298.2261,\n",
       "       298.2385, 298.2505, 298.2621, 298.2733, 298.2842, 298.2954,\n",
       "       298.3063, 298.3169, 298.3273, 298.3375, 298.3474, 298.357 ,\n",
       "       298.3664, 298.3755, 298.3846, 298.3938, 298.4028, 298.4116,\n",
       "       298.4202, 298.4287, 298.437 , 298.4452, 298.4532, 298.461 ,\n",
       "       298.4689, 298.4766, 298.4843, 298.4918, 298.4993, 298.5066,\n",
       "       298.5137, 298.5208, 298.5278, 298.5346, 298.5415, 298.5482,\n",
       "       298.5549, 298.5615, 298.5679, 298.5743, 298.5806, 298.5868,\n",
       "       298.5929, 298.599 , 298.605 , 298.611 , 298.6168, 298.6226,\n",
       "       298.6284, 298.634 , 298.6396, 298.6451, 298.6505, 298.6559,\n",
       "       298.6613, 298.6666, 298.6718, 298.677 , 298.6821, 298.6872,\n",
       "       298.6922, 298.6972, 298.7021, 298.707 , 298.7118, 298.7166,\n",
       "       298.7213, 298.726 , 298.7307, 298.7353, 298.7398, 298.7443,\n",
       "       298.7488, 298.7532, 298.7576, 298.762 , 298.7663, 298.7706,\n",
       "       298.7748])"
      ]
     },
     "execution_count": 21,
     "metadata": {},
     "output_type": "execute_result"
    }
   ],
   "source": [
    "YExact25"
   ]
  },
  {
   "cell_type": "code",
   "execution_count": 31,
   "metadata": {},
   "outputs": [
    {
     "data": {
      "text/plain": [
       "15.092"
      ]
     },
     "execution_count": 31,
     "metadata": {},
     "output_type": "execute_result"
    }
   ],
   "source": [
    "norm(P[3])"
   ]
  },
  {
   "cell_type": "code",
   "execution_count": 27,
   "metadata": {},
   "outputs": [
    {
     "data": {
      "text/plain": [
       "array([4.18410e+03, 1.09802e+03, 6.03400e-01, 1.50920e+01])"
      ]
     },
     "execution_count": 27,
     "metadata": {},
     "output_type": "execute_result"
    }
   ],
   "source": [
    "P"
   ]
  },
  {
   "cell_type": "code",
   "execution_count": 32,
   "metadata": {},
   "outputs": [
    {
     "ename": "NameError",
     "evalue": "name 's' is not defined",
     "output_type": "error",
     "traceback": [
      "\u001b[1;31m---------------------------------------------------------------------------\u001b[0m",
      "\u001b[1;31mNameError\u001b[0m                                 Traceback (most recent call last)",
      "\u001b[1;32m<ipython-input-32-96ef87cdc9f7>\u001b[0m in \u001b[0;36m<module>\u001b[1;34m\u001b[0m\n\u001b[1;32m----> 1\u001b[1;33m \u001b[0mplt\u001b[0m\u001b[1;33m.\u001b[0m\u001b[0mplot\u001b[0m\u001b[1;33m(\u001b[0m\u001b[0ms\u001b[0m\u001b[1;33m)\u001b[0m\u001b[1;33m\u001b[0m\u001b[1;33m\u001b[0m\u001b[0m\n\u001b[0m",
      "\u001b[1;31mNameError\u001b[0m: name 's' is not defined"
     ]
    }
   ],
   "source": [
    "plt.plot(s)"
   ]
  },
  {
   "cell_type": "code",
   "execution_count": 2,
   "metadata": {},
   "outputs": [
    {
     "data": {
      "text/plain": [
       "49.588"
      ]
     },
     "execution_count": 2,
     "metadata": {},
     "output_type": "execute_result"
    }
   ],
   "source": [
    "45.08 + 45.08*0.1"
   ]
  },
  {
   "cell_type": "code",
   "execution_count": null,
   "metadata": {},
   "outputs": [],
   "source": []
  }
 ],
 "metadata": {
  "kernelspec": {
   "display_name": "Python 3",
   "language": "python",
   "name": "python3"
  },
  "language_info": {
   "codemirror_mode": {
    "name": "ipython",
    "version": 3
   },
   "file_extension": ".py",
   "mimetype": "text/x-python",
   "name": "python",
   "nbconvert_exporter": "python",
   "pygments_lexer": "ipython3",
   "version": "3.8.5"
  }
 },
 "nbformat": 4,
 "nbformat_minor": 4
}
